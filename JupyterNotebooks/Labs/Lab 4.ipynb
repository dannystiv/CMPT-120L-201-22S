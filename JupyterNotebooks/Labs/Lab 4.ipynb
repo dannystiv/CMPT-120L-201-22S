{
 "cells": [
  {
   "cell_type": "markdown",
   "metadata": {},
   "source": [
    "# Lab Four\n",
    "---\n",
    "\n",
    "For this lab we're going to be making and using a bunch of functions. \n",
    "\n",
    "Our Goals are:\n",
    "- Searching our Documentation\n",
    "- Using built in functions\n",
    "- Making our own functions\n",
    "- Combining functions\n",
    "- Structuring solutions"
   ]
  },
  {
   "cell_type": "code",
   "execution_count": 1,
   "metadata": {},
   "outputs": [],
   "source": [
    "# For the following built in functions we didn't touch on them in class. I want you to look for them in the python documentation and implement them."
   ]
  },
  {
   "cell_type": "code",
   "execution_count": 2,
   "metadata": {},
   "outputs": [],
   "source": [
    "# I want you to find a built in function to SWAP CASE on a string. Print it.\n",
    "\n",
    "# For example the string \"HeY thERe HowS iT GoING\" turns into \"hEy THerE hOWs It gOing\"\n",
    "sample_string = \"HeY thERe HowS iT GoING\""
   ]
  },
  {
   "cell_type": "code",
   "execution_count": 8,
   "metadata": {},
   "outputs": [
    {
     "data": {
      "text/plain": [
       "'BLIGGETY'"
      ]
     },
     "execution_count": 8,
     "metadata": {},
     "output_type": "execute_result"
    }
   ],
   "source": [
    "'bliggety'.swapcase()"
   ]
  },
  {
   "cell_type": "code",
   "execution_count": 3,
   "metadata": {},
   "outputs": [],
   "source": [
    "# I want you to find a built in function to CENTER a string and pad the sides with 4 dashes(-) a side. Print it.\n",
    "\n",
    "# For example the string \"Hey There\" becomes \"----Hey There----\"\n",
    "\n",
    "sample_string = \"Hey There\""
   ]
  },
  {
   "cell_type": "code",
   "execution_count": 34,
   "metadata": {},
   "outputs": [
    {
     "name": "stdout",
     "output_type": "stream",
     "text": [
      "----Filet Mignon----\n"
     ]
    }
   ],
   "source": [
    "x=\"Filet Mignon\".center(20,\"-\")\n",
    "print(x)"
   ]
  },
  {
   "cell_type": "code",
   "execution_count": 4,
   "metadata": {},
   "outputs": [],
   "source": [
    "# I want you to find a built in function to PARTITION a string. Print it.\n",
    "\n",
    "# For example the string \"abcdefg.hijklmnop\" would come out to be [\"abcdefg\",\".\",\"hijklmnop\"]\n",
    "\n",
    "sample_string = \"abcdefg.hijklmnop\""
   ]
  },
  {
   "cell_type": "code",
   "execution_count": 36,
   "metadata": {},
   "outputs": [
    {
     "data": {
      "text/plain": [
       "('abcdefg', '.', 'hijklmnop')"
      ]
     },
     "execution_count": 36,
     "metadata": {},
     "output_type": "execute_result"
    }
   ],
   "source": [
    "\"abcdefg.hijklmnop\".partition(\".\")"
   ]
  },
  {
   "cell_type": "code",
   "execution_count": 5,
   "metadata": {},
   "outputs": [],
   "source": [
    "# I want you to write a function that will take in a number and raise it to the power given. \n",
    "\n",
    "# For example if given the numbers 2 and 3. The math that the function should do is 2^3 and should print out or return 8. Print the output."
   ]
  },
  {
   "cell_type": "code",
   "execution_count": 60,
   "metadata": {},
   "outputs": [
    {
     "name": "stdout",
     "output_type": "stream",
     "text": [
      "8\n"
     ]
    }
   ],
   "source": [
    "x=input(\"What number do you want to exponent?\")\n",
    "y=input(\"How much for the little number do you wanna put?\")\n",
    "z=pow(int(x),int(y))\n",
    "print(z)\n"
   ]
  },
  {
   "cell_type": "code",
   "execution_count": 6,
   "metadata": {},
   "outputs": [],
   "source": [
    "# I want you to write a function that will take in a list and see how many times a given number is in the list. \n",
    "\n",
    "# For example if the array given is [2,3,5,2,3,6,7,8,2] and the number given is 2 the function should print out or return 3. Print the output."
   ]
  },
  {
   "cell_type": "code",
   "execution_count": 72,
   "metadata": {},
   "outputs": [
    {
     "name": "stdout",
     "output_type": "stream",
     "text": [
      "3\n"
     ]
    }
   ],
   "source": [
    "x=(2,3,5,2,3,6,7,8,2).count(2)\n",
    "print(x)"
   ]
  },
  {
   "cell_type": "code",
   "execution_count": 73,
   "metadata": {},
   "outputs": [],
   "source": [
    "# Use the functions given to create a slope function. The function should be named slope and have 4 parameters.\n",
    "\n",
    "# If you don't remember the slope formula is (y2 - y1) / (x2 - x1) If this doesn't make sense look up `Slope Formula` on google.\n",
    "\n",
    "def division(x, y):\n",
    "    return x / y\n",
    "\n",
    "def subtraction(x, y):\n",
    "    return x - y\n",
    "\n",
    "    "
   ]
  },
  {
   "cell_type": "code",
   "execution_count": 84,
   "metadata": {},
   "outputs": [
    {
     "name": "stdout",
     "output_type": "stream",
     "text": [
      "2.0\n"
     ]
    }
   ],
   "source": [
    "def slope(x1,y1,x2,y2):\n",
    "    z=(y2-y1)/(x2-x1)\n",
    "    return z\n",
    "print(slope(10,15,5,5))\n"
   ]
  },
  {
   "cell_type": "code",
   "execution_count": 88,
   "metadata": {},
   "outputs": [],
   "source": [
    "# Use the functions given to create a distance function. The function should be named function and have 4 parameters.\n",
    "\n",
    "# HINT: You'll need a built in function here too. You'll also be able to use functions written earlier in the notebook as long as you've run those cells.\n",
    "\n",
    "# If you don't remember the distance formula it is the square root of the following ((x2 - x1)^2 + (y2 - y1)^2). If this doesn't make sense look up `Distance Formula` on google.\n",
    "\n",
    "import math\n",
    "\n",
    "def addition(x, y):\n",
    "    return x + y\n",
    "\n",
    "\n",
    "\n"
   ]
  },
  {
   "cell_type": "code",
   "execution_count": 86,
   "metadata": {},
   "outputs": [
    {
     "name": "stdout",
     "output_type": "stream",
     "text": [
      "distance between (4, 2) and (6, 3) is :  3.605551275463989\n"
     ]
    }
   ],
   "source": [
    "x1=int(input(\"enter x1 : \"))\n",
    "\n",
    "x2=int(input(\"enter x2 : \"))\n",
    "\n",
    "y1=int(input(\"enter y1 : \"))\n",
    "\n",
    "y2=int(input(\"enter y2 : \"))\n",
    "\n",
    "result= ((((x2 - x1 )**2) + ((y2-y1)**2) )**0.5)\n",
    "\n",
    "print(\"distance between\",(x1,x2),\"and\",(y1,y2),\"is : \",result)"
   ]
  }
 ],
 "metadata": {
  "interpreter": {
   "hash": "6b5318982f8d72d90cd36bfa2e98546ee27090b6a028d8e71394b9f0a4a0e32e"
  },
  "kernelspec": {
   "display_name": "Python 3.8.5 64-bit",
   "language": "python",
   "name": "python3"
  },
  "language_info": {
   "codemirror_mode": {
    "name": "ipython",
    "version": 3
   },
   "file_extension": ".py",
   "mimetype": "text/x-python",
   "name": "python",
   "nbconvert_exporter": "python",
   "pygments_lexer": "ipython3",
   "version": "3.10.2"
  },
  "orig_nbformat": 2
 },
 "nbformat": 4,
 "nbformat_minor": 2
}
